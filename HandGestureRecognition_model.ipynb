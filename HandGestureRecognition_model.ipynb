{
  "nbformat": 4,
  "nbformat_minor": 0,
  "metadata": {
    "colab": {
      "name": "HandGestureRecognition_model",
      "provenance": [],
      "collapsed_sections": []
    },
    "kernelspec": {
      "name": "python3",
      "display_name": "Python 3"
    },
    "language_info": {
      "name": "python"
    }
  },
  "cells": [
    {
      "cell_type": "markdown",
      "metadata": {
        "id": "cUFyEYQRmgUB"
      },
      "source": [
        "19CSE305 - Machine Learning\n",
        "\n",
        "# Mudra (Hand Gesture) Recognition \n",
        "\n",
        "## Team\n",
        "\n",
        "1. Rithika Sri J - CB.EN.U4CSE19025  \n",
        "2. Manav Patnaik  -  CB.EN.U4CSE19033 \n",
        "\n",
        "Dataset: https://drive.google.com/drive/folders/1xpmTTwjZR8R0r2SnRPjFOZ6RpcWAA5zH?usp=sharing\n"
      ]
    },
    {
      "cell_type": "code",
      "metadata": {
        "colab": {
          "base_uri": "https://localhost:8080/"
        },
        "id": "ovlQ93R6pb0L",
        "outputId": "a174c5cf-9e63-4b80-efb8-6c7f53b14ec4"
      },
      "source": [
        "from google.colab import drive\n",
        "drive.mount('/content/drive')"
      ],
      "execution_count": null,
      "outputs": [
        {
          "output_type": "stream",
          "name": "stdout",
          "text": [
            "Drive already mounted at /content/drive; to attempt to forcibly remount, call drive.mount(\"/content/drive\", force_remount=True).\n"
          ]
        }
      ]
    },
    {
      "cell_type": "markdown",
      "metadata": {
        "id": "l_piIcOFDa8I"
      },
      "source": [
        "We are building 3 CNNs and will be comparing their results later.\n",
        "\n",
        "*   Custom CNN\n",
        "*   Resnet\n",
        "\n"
      ]
    },
    {
      "cell_type": "markdown",
      "metadata": {
        "id": "fUsmlO7hAkFl"
      },
      "source": [
        "# Building a CNN - Convolutional Neural Network"
      ]
    },
    {
      "cell_type": "markdown",
      "metadata": {
        "id": "AqrQQewhn1pk"
      },
      "source": [
        "## Importing and Loading Images"
      ]
    },
    {
      "cell_type": "code",
      "metadata": {
        "id": "9XVDma7YmhMY"
      },
      "source": [
        "%tensorflow_version 2.x\n",
        "\n",
        "import os\n",
        "import random\n",
        "import glob\n",
        "import shutil\n",
        "import numpy as np\n",
        "import pandas as pd\n",
        "import cv2\n",
        "import matplotlib.pyplot as plt\n",
        "import keras\n",
        "import tensorflow as tf\n",
        "from tensorflow.keras.preprocessing.image import ImageDataGenerator\n",
        "from tensorflow.keras.preprocessing import image\n",
        "from tensorflow.keras.models import Sequential\n",
        "from tensorflow.keras.optimizers import SGD,Adam\n",
        "from tensorflow.keras.applications import VGG19, VGG16, ResNet50\n",
        "from tensorflow.keras.layers import Dense, Activation, Conv2D, Flatten, Dropout, MaxPool2D"
      ],
      "execution_count": null,
      "outputs": []
    },
    {
      "cell_type": "markdown",
      "metadata": {
        "id": "_uQ7IiTnnwLm"
      },
      "source": [
        "Splitting code into **train** and **test**"
      ]
    },
    {
      "cell_type": "code",
      "metadata": {
        "id": "g5RxVzmymugg"
      },
      "source": [
        "# for i in os.listdir('./ML_MUDRA'):\n",
        "#     num_images = len(os.listdir(f'./ML_MUDRA/{i}'))\n",
        "#     test_size = math.floor(num_images*0.25)\n",
        "#     valid_size = test_size\n",
        "#     train_size = num_images - test_size - valid_size\n",
        "#     for train_img in random.sample(glob.glob(f'./ML_MUDRA/{i}/*'), train_size):\n",
        "#         shutil.move(train_img, f'train/{i}')\n",
        "#     for train_img in random.sample(glob.glob(f'./ML_MUDRA/{i}/*'), valid_size):\n",
        "#         shutil.move(train_img, f'valid/{i}')\n",
        "#     for test_img in random.sample(glob.glob(f'./ML_MUDRA/{i}/*'), test_size):\n",
        "#         shutil.move(test_img, f'test/{i}/')"
      ],
      "execution_count": null,
      "outputs": []
    },
    {
      "cell_type": "markdown",
      "metadata": {
        "id": "Kzm_FJEg_tTw"
      },
      "source": [
        "Image data generators"
      ]
    },
    {
      "cell_type": "code",
      "metadata": {
        "id": "0dG4y_5Ml8AJ"
      },
      "source": [
        "train_datagenerator = ImageDataGenerator(rescale=1./255, horizontal_flip=True)\n",
        "valid_datagenerator = ImageDataGenerator(rescale=1./255, horizontal_flip=True)\n",
        "test_datagenerator = ImageDataGenerator(rescale=1./255)"
      ],
      "execution_count": null,
      "outputs": []
    },
    {
      "cell_type": "code",
      "metadata": {
        "id": "Zb8n064S_uoS"
      },
      "source": [
        "dataset_dir = '/content/drive/MyDrive/Datasets/Hand_Gesture_Recognition'"
      ],
      "execution_count": null,
      "outputs": []
    },
    {
      "cell_type": "code",
      "metadata": {
        "colab": {
          "base_uri": "https://localhost:8080/"
        },
        "id": "KPbl6V7SAC4q",
        "outputId": "6bea94ee-97f4-4b37-992e-1e2ae6f12037"
      },
      "source": [
        "# Resize images to 100x100\n",
        "training_image_generator = train_datagenerator.flow_from_directory(\n",
        "        dataset_dir + '/train',\n",
        "        target_size=(100, 100))\n",
        "\n",
        "validation_image_generator = valid_datagenerator.flow_from_directory(\n",
        "         dataset_dir + '/valid',\n",
        "        target_size=(100, 100))\n",
        "\n",
        "testing_image_generator = test_datagenerator.flow_from_directory(\n",
        "         dataset_dir + '/test',\n",
        "        target_size=(100, 100))"
      ],
      "execution_count": null,
      "outputs": [
        {
          "output_type": "stream",
          "name": "stdout",
          "text": [
            "Found 286 images belonging to 27 classes.\n",
            "Found 122 images belonging to 27 classes.\n",
            "Found 122 images belonging to 27 classes.\n"
          ]
        }
      ]
    },
    {
      "cell_type": "markdown",
      "metadata": {
        "id": "RS5HQw2BAw0G"
      },
      "source": [
        "Classes recognized by Keras"
      ]
    },
    {
      "cell_type": "code",
      "metadata": {
        "colab": {
          "base_uri": "https://localhost:8080/"
        },
        "id": "tghOOkZVAUT2",
        "outputId": "854d40dc-5ede-4ccf-9f5f-eb2f43b6f6c4"
      },
      "source": [
        "print('Unique classes:', training_image_generator.class_indices)"
      ],
      "execution_count": null,
      "outputs": [
        {
          "output_type": "stream",
          "name": "stdout",
          "text": [
            "Unique classes: {'10_Kabitham': 0, '11_Kadagamugam': 1, '12_Kangula': 2, '13_Katharimugam': 3, '14_Mayuram': 4, '15_Mirgachirsha': 5, '16_Mukulam': 6, '17_Mushti': 7, '18_Padmakosha': 8, '19_Pathakam': 9, '1_Alapadmam': 10, '20_Sarpashisha': 11, '21_Shikaram': 12, '22_Shukathundam': 13, '23_Simhamugha': 14, '24_Suchi': 15, '25_Tamaraichulam': 16, '26_Thirpathakam': 17, '27_Trishulam': 18, '2_Aralam': 19, '3_Artha chandran': 20, '4_Arthapathakam': 21, '5_Brahmaram': 22, '6_Chandrakala': 23, '7_Chaturam': 24, '8_Hamsapaksham': 25, '9_Hamsasiyam': 26}\n"
          ]
        }
      ]
    },
    {
      "cell_type": "code",
      "metadata": {
        "id": "MkNnw3CCAzDv"
      },
      "source": [
        "train_steps = training_image_generator.n // training_image_generator.batch_size"
      ],
      "execution_count": null,
      "outputs": []
    },
    {
      "cell_type": "markdown",
      "metadata": {
        "id": "0kiEdJoEBG5E"
      },
      "source": [
        "Sample image"
      ]
    },
    {
      "cell_type": "code",
      "metadata": {
        "colab": {
          "base_uri": "https://localhost:8080/",
          "height": 286
        },
        "id": "DVnOWgszBDTV",
        "outputId": "107b38eb-1d46-45d8-a2b3-0ac85f74c071"
      },
      "source": [
        "img1 = image.load_img(dataset_dir + '/train/10_Kabitham/1.jpg')\n",
        "plt.imshow(img1)"
      ],
      "execution_count": null,
      "outputs": [
        {
          "output_type": "execute_result",
          "data": {
            "text/plain": [
              "<matplotlib.image.AxesImage at 0x7fe165a0dfd0>"
            ]
          },
          "metadata": {},
          "execution_count": 37
        },
        {
          "output_type": "display_data",
          "data": {
            "image/png": "[encoded data removed]",
            "text/plain": [
              "<Figure size 432x288 with 1 Axes>"
            ]
          },
          "metadata": {
            "needs_background": "light"
          }
        }
      ]
    },
    {
      "cell_type": "markdown",
      "metadata": {
        "id": "E4lumBFoBVfS"
      },
      "source": [
        "## Model Building"
      ]
    },
    {
      "cell_type": "code",
      "metadata": {
        "id": "o_0NWIHyBWbm"
      },
      "source": [
        "model = tf.keras.Sequential([\n",
        "                             Conv2D(32, (3, 3), activation='relu', input_shape=(100, 100, 3), padding='same'),\n",
        "                             Conv2D(32, (3, 3), activation='relu', padding='same'),\n",
        "                             MaxPool2D(3,3),\n",
        "                             Dropout(0.25),\n",
        "                             Conv2D(64, (3, 3), activation='relu', padding='same'),\n",
        "                             Conv2D(64, (3, 3), activation='relu', padding='same'),\n",
        "                             MaxPool2D(3,3),\n",
        "                             Dropout(0.25),\n",
        "                             Flatten(),\n",
        "                             Dense(256, activation='relu'),\n",
        "                             Dropout(0.5),\n",
        "                             Dense(27, activation='softmax')\n",
        "])"
      ],
      "execution_count": null,
      "outputs": []
    },
    {
      "cell_type": "code",
      "metadata": {
        "colab": {
          "base_uri": "https://localhost:8080/"
        },
        "id": "Xy9ltNPYBW21",
        "outputId": "55cebf16-d67a-4962-efe9-6387063d2211"
      },
      "source": [
        "model.summary()"
      ],
      "execution_count": null,
      "outputs": [
        {
          "output_type": "stream",
          "name": "stdout",
          "text": [
            "Model: \"sequential_2\"\n",
            "_________________________________________________________________\n",
            " Layer (type)                Output Shape              Param #   \n",
            "=================================================================\n",
            " conv2d_8 (Conv2D)           (None, 100, 100, 32)      896       \n",
            "                                                                 \n",
            " conv2d_9 (Conv2D)           (None, 100, 100, 32)      9248      \n",
            "                                                                 \n",
            " max_pooling2d_4 (MaxPooling  (None, 33, 33, 32)       0         \n",
            " 2D)                                                             \n",
            "                                                                 \n",
            " dropout_6 (Dropout)         (None, 33, 33, 32)        0         \n",
            "                                                                 \n",
            " conv2d_10 (Conv2D)          (None, 33, 33, 64)        18496     \n",
            "                                                                 \n",
            " conv2d_11 (Conv2D)          (None, 33, 33, 64)        36928     \n",
            "                                                                 \n",
            " max_pooling2d_5 (MaxPooling  (None, 11, 11, 64)       0         \n",
            " 2D)                                                             \n",
            "                                                                 \n",
            " dropout_7 (Dropout)         (None, 11, 11, 64)        0         \n",
            "                                                                 \n",
            " flatten_2 (Flatten)         (None, 7744)              0         \n",
            "                                                                 \n",
            " dense_4 (Dense)             (None, 256)               1982720   \n",
            "                                                                 \n",
            " dropout_8 (Dropout)         (None, 256)               0         \n",
            "                                                                 \n",
            " dense_5 (Dense)             (None, 27)                6939      \n",
            "                                                                 \n",
            "=================================================================\n",
            "Total params: 2,055,227\n",
            "Trainable params: 2,055,227\n",
            "Non-trainable params: 0\n",
            "_________________________________________________________________\n"
          ]
        }
      ]
    },
    {
      "cell_type": "code",
      "metadata": {
        "id": "v13x0pdyBdAf"
      },
      "source": [
        "model.compile(loss='categorical_crossentropy', optimizer='adam', metrics=['accuracy'])"
      ],
      "execution_count": null,
      "outputs": []
    },
    {
      "cell_type": "code",
      "metadata": {
        "colab": {
          "base_uri": "https://localhost:8080/"
        },
        "id": "AtGEeKcaEs-G",
        "outputId": "67a84634-90db-4875-b2a6-944afe4d1e83"
      },
      "source": [
        "results = model.fit(training_image_generator, \n",
        "                              steps_per_epoch=train_steps,\n",
        "                          epochs=50, validation_data=validation_image_generator)"
      ],
      "execution_count": null,
      "outputs": [
        {
          "output_type": "stream",
          "name": "stdout",
          "text": [
            "Epoch 1/50\n",
            "8/8 [==============================] - 69s 9s/step - loss: 3.3104 - accuracy: 0.0472 - val_loss: 3.2834 - val_accuracy: 0.0492\n",
            "Epoch 2/50\n",
            "8/8 [==============================] - 64s 8s/step - loss: 3.2510 - accuracy: 0.0472 - val_loss: 3.2213 - val_accuracy: 0.0820\n",
            "Epoch 3/50\n",
            "8/8 [==============================] - 63s 8s/step - loss: 3.2290 - accuracy: 0.0512 - val_loss: 3.2058 - val_accuracy: 0.0820\n",
            "Epoch 4/50\n",
            "8/8 [==============================] - 64s 8s/step - loss: 3.2416 - accuracy: 0.0709 - val_loss: 3.2345 - val_accuracy: 0.0820\n",
            "Epoch 5/50\n",
            "8/8 [==============================] - 63s 8s/step - loss: 3.1933 - accuracy: 0.0898 - val_loss: 3.1379 - val_accuracy: 0.0574\n",
            "Epoch 6/50\n",
            "8/8 [==============================] - 64s 8s/step - loss: 3.1769 - accuracy: 0.0748 - val_loss: 3.1458 - val_accuracy: 0.0492\n",
            "Epoch 7/50\n",
            "8/8 [==============================] - 63s 8s/step - loss: 3.1644 - accuracy: 0.0787 - val_loss: 3.1867 - val_accuracy: 0.0574\n",
            "Epoch 8/50\n",
            "8/8 [==============================] - 63s 8s/step - loss: 3.1195 - accuracy: 0.0630 - val_loss: 3.1113 - val_accuracy: 0.0820\n",
            "Epoch 9/50\n",
            "8/8 [==============================] - 64s 8s/step - loss: 3.0662 - accuracy: 0.1102 - val_loss: 3.0732 - val_accuracy: 0.1066\n",
            "Epoch 10/50\n",
            "8/8 [==============================] - 64s 8s/step - loss: 3.0585 - accuracy: 0.1142 - val_loss: 3.0038 - val_accuracy: 0.1311\n",
            "Epoch 11/50\n",
            "8/8 [==============================] - 63s 8s/step - loss: 3.0047 - accuracy: 0.1693 - val_loss: 2.9922 - val_accuracy: 0.1230\n",
            "Epoch 12/50\n",
            "8/8 [==============================] - 63s 8s/step - loss: 2.8058 - accuracy: 0.2031 - val_loss: 2.8532 - val_accuracy: 0.2295\n",
            "Epoch 13/50\n",
            "8/8 [==============================] - 63s 8s/step - loss: 2.6920 - accuracy: 0.2244 - val_loss: 2.8208 - val_accuracy: 0.2295\n",
            "Epoch 14/50\n",
            "8/8 [==============================] - 64s 8s/step - loss: 2.4755 - accuracy: 0.2835 - val_loss: 2.7754 - val_accuracy: 0.2541\n",
            "Epoch 15/50\n",
            "8/8 [==============================] - 63s 8s/step - loss: 2.3870 - accuracy: 0.3189 - val_loss: 2.8307 - val_accuracy: 0.2049\n",
            "Epoch 16/50\n",
            "8/8 [==============================] - 63s 8s/step - loss: 2.2298 - accuracy: 0.3307 - val_loss: 2.6590 - val_accuracy: 0.2541\n",
            "Epoch 17/50\n",
            "8/8 [==============================] - 63s 8s/step - loss: 2.0544 - accuracy: 0.3780 - val_loss: 2.7934 - val_accuracy: 0.2787\n",
            "Epoch 18/50\n",
            "8/8 [==============================] - 64s 8s/step - loss: 2.0746 - accuracy: 0.3937 - val_loss: 2.7036 - val_accuracy: 0.2705\n",
            "Epoch 19/50\n",
            "8/8 [==============================] - 63s 8s/step - loss: 1.7097 - accuracy: 0.5078 - val_loss: 2.8230 - val_accuracy: 0.3033\n",
            "Epoch 20/50\n",
            "8/8 [==============================] - 63s 8s/step - loss: 1.7327 - accuracy: 0.4843 - val_loss: 2.8058 - val_accuracy: 0.2787\n",
            "Epoch 21/50\n",
            "8/8 [==============================] - 63s 8s/step - loss: 1.6038 - accuracy: 0.5276 - val_loss: 2.6825 - val_accuracy: 0.2705\n",
            "Epoch 22/50\n",
            "8/8 [==============================] - 63s 8s/step - loss: 1.5033 - accuracy: 0.5591 - val_loss: 2.8013 - val_accuracy: 0.3443\n",
            "Epoch 23/50\n",
            "8/8 [==============================] - 63s 8s/step - loss: 1.3257 - accuracy: 0.6024 - val_loss: 2.8965 - val_accuracy: 0.3197\n",
            "Epoch 24/50\n",
            "8/8 [==============================] - 63s 8s/step - loss: 1.3424 - accuracy: 0.5866 - val_loss: 2.9871 - val_accuracy: 0.3525\n",
            "Epoch 25/50\n",
            "8/8 [==============================] - 63s 8s/step - loss: 1.1851 - accuracy: 0.6457 - val_loss: 2.6974 - val_accuracy: 0.3361\n",
            "Epoch 26/50\n",
            "8/8 [==============================] - 64s 8s/step - loss: 1.0791 - accuracy: 0.6811 - val_loss: 2.8780 - val_accuracy: 0.3607\n",
            "Epoch 27/50\n",
            "8/8 [==============================] - 63s 8s/step - loss: 0.9444 - accuracy: 0.7008 - val_loss: 2.9774 - val_accuracy: 0.3689\n",
            "Epoch 28/50\n",
            "8/8 [==============================] - 63s 8s/step - loss: 0.9405 - accuracy: 0.7087 - val_loss: 3.0862 - val_accuracy: 0.3525\n",
            "Epoch 29/50\n",
            "8/8 [==============================] - 63s 8s/step - loss: 0.8974 - accuracy: 0.7362 - val_loss: 3.2428 - val_accuracy: 0.3852\n",
            "Epoch 30/50\n",
            "8/8 [==============================] - 63s 8s/step - loss: 0.7395 - accuracy: 0.7795 - val_loss: 3.5180 - val_accuracy: 0.3689\n",
            "Epoch 31/50\n",
            "8/8 [==============================] - 65s 8s/step - loss: 0.7709 - accuracy: 0.7677 - val_loss: 3.0736 - val_accuracy: 0.3934\n",
            "Epoch 32/50\n",
            "8/8 [==============================] - 63s 8s/step - loss: 0.7373 - accuracy: 0.7992 - val_loss: 2.8871 - val_accuracy: 0.4098\n",
            "Epoch 33/50\n",
            "8/8 [==============================] - 63s 8s/step - loss: 0.5263 - accuracy: 0.8268 - val_loss: 3.4405 - val_accuracy: 0.3934\n",
            "Epoch 34/50\n",
            "8/8 [==============================] - 64s 8s/step - loss: 0.6135 - accuracy: 0.8228 - val_loss: 3.2670 - val_accuracy: 0.3934\n",
            "Epoch 35/50\n",
            "8/8 [==============================] - 65s 8s/step - loss: 0.5835 - accuracy: 0.8164 - val_loss: 3.2246 - val_accuracy: 0.4098\n",
            "Epoch 36/50\n",
            "8/8 [==============================] - 63s 8s/step - loss: 0.4079 - accuracy: 0.8976 - val_loss: 3.4455 - val_accuracy: 0.4426\n",
            "Epoch 37/50\n",
            "8/8 [==============================] - 63s 8s/step - loss: 0.3917 - accuracy: 0.8661 - val_loss: 3.9260 - val_accuracy: 0.3934\n",
            "Epoch 38/50\n",
            "8/8 [==============================] - 64s 8s/step - loss: 0.4507 - accuracy: 0.8583 - val_loss: 3.9732 - val_accuracy: 0.3770\n",
            "Epoch 39/50\n",
            "8/8 [==============================] - 63s 8s/step - loss: 0.5109 - accuracy: 0.8425 - val_loss: 3.6166 - val_accuracy: 0.3934\n",
            "Epoch 40/50\n",
            "8/8 [==============================] - 63s 8s/step - loss: 0.5175 - accuracy: 0.8386 - val_loss: 3.6217 - val_accuracy: 0.3770\n",
            "Epoch 41/50\n",
            "8/8 [==============================] - 63s 8s/step - loss: 0.4684 - accuracy: 0.8819 - val_loss: 3.4132 - val_accuracy: 0.4098\n",
            "Epoch 42/50\n",
            "8/8 [==============================] - 63s 8s/step - loss: 0.3493 - accuracy: 0.8976 - val_loss: 3.3270 - val_accuracy: 0.4180\n",
            "Epoch 43/50\n",
            "8/8 [==============================] - 63s 8s/step - loss: 0.2880 - accuracy: 0.9134 - val_loss: 3.6471 - val_accuracy: 0.3770\n",
            "Epoch 44/50\n",
            "8/8 [==============================] - 64s 8s/step - loss: 0.2725 - accuracy: 0.9094 - val_loss: 3.9935 - val_accuracy: 0.3852\n",
            "Epoch 45/50\n",
            "8/8 [==============================] - 64s 8s/step - loss: 0.1686 - accuracy: 0.9409 - val_loss: 4.4902 - val_accuracy: 0.3934\n",
            "Epoch 46/50\n",
            "8/8 [==============================] - 65s 8s/step - loss: 0.2768 - accuracy: 0.9252 - val_loss: 4.1452 - val_accuracy: 0.3852\n",
            "Epoch 47/50\n",
            "8/8 [==============================] - 63s 8s/step - loss: 0.3471 - accuracy: 0.8819 - val_loss: 4.0297 - val_accuracy: 0.3934\n",
            "Epoch 48/50\n",
            "8/8 [==============================] - 63s 8s/step - loss: 0.2690 - accuracy: 0.9291 - val_loss: 4.0011 - val_accuracy: 0.3934\n",
            "Epoch 49/50\n",
            "8/8 [==============================] - 64s 8s/step - loss: 0.2591 - accuracy: 0.9252 - val_loss: 3.7593 - val_accuracy: 0.3934\n",
            "Epoch 50/50\n",
            "8/8 [==============================] - 64s 8s/step - loss: 0.2487 - accuracy: 0.9291 - val_loss: 4.1179 - val_accuracy: 0.4262\n"
          ]
        }
      ]
    },
    {
      "cell_type": "markdown",
      "metadata": {
        "id": "EJcuv-5gekXC"
      },
      "source": [
        "Saving the model"
      ]
    },
    {
      "cell_type": "code",
      "metadata": {
        "id": "tL_eg6FqemXP"
      },
      "source": [
        "model.save('handgesture_cnn.h5')"
      ],
      "execution_count": null,
      "outputs": []
    },
    {
      "cell_type": "markdown",
      "metadata": {
        "id": "gopkZv_OVlV3"
      },
      "source": [
        "# Building a CNN through RESNET50"
      ]
    },
    {
      "cell_type": "code",
      "metadata": {
        "id": "Rls_d4LCVwjV",
        "colab": {
          "base_uri": "https://localhost:8080/"
        },
        "outputId": "bb222e51-a79e-44aa-e88b-2c31386c1ca6"
      },
      "source": [
        "#Initializing ResNet50\n",
        "base_model_resnet = ResNet50(include_top = False, weights = 'imagenet', input_shape = (100,100,3), classes = 27)"
      ],
      "execution_count": null,
      "outputs": [
        {
          "output_type": "stream",
          "name": "stdout",
          "text": [
            "Downloading data from https://storage.googleapis.com/tensorflow/keras-applications/resnet/resnet50_weights_tf_dim_ordering_tf_kernels_notop.h5\n",
            "94773248/94765736 [==============================] - 1s 0us/step\n",
            "94781440/94765736 [==============================] - 1s 0us/step\n"
          ]
        }
      ]
    },
    {
      "cell_type": "code",
      "metadata": {
        "id": "RApbob2BXAVB"
      },
      "source": [
        "#Adding layers to the ResNet50\n",
        "model_resnet=Sequential()\n",
        "\n",
        "#Add the Dense layers along with activation and batch normalization\n",
        "model_resnet.add(base_model_resnet)\n",
        "model_resnet.add(Flatten())\n",
        "\n",
        "#Add the Dense layers along with activation and batch normalization\n",
        "model_resnet.add(Dense(1024,activation=('relu')))\n",
        "model_resnet.add(Dense(512,activation=('relu'))) \n",
        "model_resnet.add(Dropout(.4))\n",
        "model_resnet.add(Dense(256,activation=('relu'))) \n",
        "model_resnet.add(Dropout(.3))\n",
        "model_resnet.add(Dense(128,activation=('relu')))\n",
        "model_resnet.add(Dropout(.2))\n",
        "model_resnet.add(Dense(27,activation=('softmax')))"
      ],
      "execution_count": null,
      "outputs": []
    },
    {
      "cell_type": "code",
      "metadata": {
        "colab": {
          "base_uri": "https://localhost:8080/"
        },
        "id": "zhsqOumLXR_t",
        "outputId": "9c4cef84-a276-4974-a6e5-2a6153c9af14"
      },
      "source": [
        "#Summary of ResNet50 Model\n",
        "model_resnet.summary()"
      ],
      "execution_count": null,
      "outputs": [
        {
          "output_type": "stream",
          "name": "stdout",
          "text": [
            "Model: \"sequential_3\"\n",
            "_________________________________________________________________\n",
            " Layer (type)                Output Shape              Param #   \n",
            "=================================================================\n",
            " resnet50 (Functional)       (None, 4, 4, 2048)        23587712  \n",
            "                                                                 \n",
            " flatten_3 (Flatten)         (None, 32768)             0         \n",
            "                                                                 \n",
            " dense_6 (Dense)             (None, 1024)              33555456  \n",
            "                                                                 \n",
            " dense_7 (Dense)             (None, 512)               524800    \n",
            "                                                                 \n",
            " dropout_9 (Dropout)         (None, 512)               0         \n",
            "                                                                 \n",
            " dense_8 (Dense)             (None, 256)               131328    \n",
            "                                                                 \n",
            " dropout_10 (Dropout)        (None, 256)               0         \n",
            "                                                                 \n",
            " dense_9 (Dense)             (None, 128)               32896     \n",
            "                                                                 \n",
            " dropout_11 (Dropout)        (None, 128)               0         \n",
            "                                                                 \n",
            " dense_10 (Dense)            (None, 27)                3483      \n",
            "                                                                 \n",
            "=================================================================\n",
            "Total params: 57,835,675\n",
            "Trainable params: 57,782,555\n",
            "Non-trainable params: 53,120\n",
            "_________________________________________________________________\n"
          ]
        }
      ]
    },
    {
      "cell_type": "code",
      "metadata": {
        "id": "3qfRi1yBXVgs"
      },
      "source": [
        "#Compiling ResNet50\n",
        "model_resnet.compile(optimizer = 'SGD', loss = 'categorical_crossentropy', metrics = ['accuracy'])"
      ],
      "execution_count": null,
      "outputs": []
    },
    {
      "cell_type": "code",
      "metadata": {
        "colab": {
          "base_uri": "https://localhost:8080/"
        },
        "id": "Ns-LuUgGXZfN",
        "outputId": "9df7b0df-088b-4e9c-b0e7-53804d7064a8"
      },
      "source": [
        "#Training the ResNet50 model\n",
        "model_resnet.fit(training_image_generator, \n",
        "                 epochs= 50, \n",
        "                 steps_per_epoch = train_steps, \n",
        "                 validation_data = validation_image_generator)"
      ],
      "execution_count": null,
      "outputs": [
        {
          "output_type": "stream",
          "name": "stdout",
          "text": [
            "Epoch 1/50\n",
            "8/8 [==============================] - 113s 13s/step - loss: 3.9154 - accuracy: 0.0547 - val_loss: 3.3040 - val_accuracy: 0.0492\n",
            "Epoch 2/50\n",
            "8/8 [==============================] - 101s 13s/step - loss: 3.2647 - accuracy: 0.0945 - val_loss: 3.2727 - val_accuracy: 0.0574\n",
            "Epoch 3/50\n",
            "8/8 [==============================] - 101s 12s/step - loss: 3.0168 - accuracy: 0.1417 - val_loss: 3.2569 - val_accuracy: 0.0820\n",
            "Epoch 4/50\n",
            "8/8 [==============================] - 102s 13s/step - loss: 2.7939 - accuracy: 0.2008 - val_loss: 3.2668 - val_accuracy: 0.0492\n",
            "Epoch 5/50\n",
            "8/8 [==============================] - 104s 13s/step - loss: 2.5163 - accuracy: 0.2638 - val_loss: 3.3012 - val_accuracy: 0.0492\n",
            "Epoch 6/50\n",
            "8/8 [==============================] - 102s 13s/step - loss: 2.4002 - accuracy: 0.3268 - val_loss: 3.2901 - val_accuracy: 0.0492\n",
            "Epoch 7/50\n",
            "8/8 [==============================] - 102s 12s/step - loss: 2.2168 - accuracy: 0.3701 - val_loss: 3.3080 - val_accuracy: 0.0492\n",
            "Epoch 8/50\n",
            "8/8 [==============================] - 101s 12s/step - loss: 2.0517 - accuracy: 0.4291 - val_loss: 3.2896 - val_accuracy: 0.0492\n",
            "Epoch 9/50\n",
            "8/8 [==============================] - 102s 13s/step - loss: 1.8556 - accuracy: 0.5000 - val_loss: 3.2930 - val_accuracy: 0.0574\n",
            "Epoch 10/50\n",
            "8/8 [==============================] - 101s 12s/step - loss: 1.7243 - accuracy: 0.5079 - val_loss: 3.2821 - val_accuracy: 0.0492\n",
            "Epoch 11/50\n",
            "8/8 [==============================] - 101s 12s/step - loss: 1.4510 - accuracy: 0.5742 - val_loss: 3.3009 - val_accuracy: 0.0656\n",
            "Epoch 12/50\n",
            "8/8 [==============================] - 104s 13s/step - loss: 1.4393 - accuracy: 0.5945 - val_loss: 3.3475 - val_accuracy: 0.0410\n",
            "Epoch 13/50\n",
            "8/8 [==============================] - 101s 12s/step - loss: 1.3839 - accuracy: 0.6142 - val_loss: 3.2909 - val_accuracy: 0.0738\n",
            "Epoch 14/50\n",
            "8/8 [==============================] - 103s 13s/step - loss: 1.1467 - accuracy: 0.6890 - val_loss: 3.4094 - val_accuracy: 0.0492\n",
            "Epoch 15/50\n",
            "8/8 [==============================] - 100s 12s/step - loss: 0.9294 - accuracy: 0.7165 - val_loss: 3.6218 - val_accuracy: 0.0492\n",
            "Epoch 16/50\n",
            "8/8 [==============================] - 101s 12s/step - loss: 0.9379 - accuracy: 0.7244 - val_loss: 3.6993 - val_accuracy: 0.0492\n",
            "Epoch 17/50\n",
            "8/8 [==============================] - 102s 13s/step - loss: 0.8501 - accuracy: 0.7559 - val_loss: 3.5244 - val_accuracy: 0.0492\n",
            "Epoch 18/50\n",
            "8/8 [==============================] - 100s 12s/step - loss: 0.7214 - accuracy: 0.7852 - val_loss: 3.5632 - val_accuracy: 0.0492\n",
            "Epoch 19/50\n",
            "8/8 [==============================] - 109s 13s/step - loss: 0.6780 - accuracy: 0.7930 - val_loss: 3.6048 - val_accuracy: 0.0492\n",
            "Epoch 20/50\n",
            "8/8 [==============================] - 100s 13s/step - loss: 0.6328 - accuracy: 0.8189 - val_loss: 3.7409 - val_accuracy: 0.0000e+00\n",
            "Epoch 21/50\n",
            "8/8 [==============================] - 100s 12s/step - loss: 0.5147 - accuracy: 0.8622 - val_loss: 3.7432 - val_accuracy: 0.0492\n",
            "Epoch 22/50\n",
            "8/8 [==============================] - 103s 13s/step - loss: 0.4581 - accuracy: 0.8740 - val_loss: 3.9195 - val_accuracy: 0.0328\n",
            "Epoch 23/50\n",
            "8/8 [==============================] - 100s 12s/step - loss: 0.5156 - accuracy: 0.8346 - val_loss: 3.9255 - val_accuracy: 0.0328\n",
            "Epoch 24/50\n",
            "8/8 [==============================] - 102s 12s/step - loss: 0.4571 - accuracy: 0.8701 - val_loss: 4.3136 - val_accuracy: 0.0328\n",
            "Epoch 25/50\n",
            "8/8 [==============================] - 103s 13s/step - loss: 0.3941 - accuracy: 0.8858 - val_loss: 4.4452 - val_accuracy: 0.0328\n",
            "Epoch 26/50\n",
            "8/8 [==============================] - 99s 12s/step - loss: 0.3657 - accuracy: 0.8976 - val_loss: 4.7384 - val_accuracy: 0.0328\n",
            "Epoch 27/50\n",
            "8/8 [==============================] - 103s 13s/step - loss: 0.3522 - accuracy: 0.8898 - val_loss: 4.7115 - val_accuracy: 0.0328\n",
            "Epoch 28/50\n",
            "8/8 [==============================] - 100s 12s/step - loss: 0.2128 - accuracy: 0.9528 - val_loss: 4.0766 - val_accuracy: 0.0492\n",
            "Epoch 29/50\n",
            "8/8 [==============================] - 102s 12s/step - loss: 0.2571 - accuracy: 0.9252 - val_loss: 5.7463 - val_accuracy: 0.0328\n",
            "Epoch 30/50\n",
            "8/8 [==============================] - 100s 12s/step - loss: 0.2048 - accuracy: 0.9370 - val_loss: 5.5864 - val_accuracy: 0.0328\n",
            "Epoch 31/50\n",
            "8/8 [==============================] - 100s 12s/step - loss: 0.2220 - accuracy: 0.9213 - val_loss: 6.9163 - val_accuracy: 0.0328\n",
            "Epoch 32/50\n",
            "8/8 [==============================] - 101s 12s/step - loss: 0.2900 - accuracy: 0.9094 - val_loss: 5.9597 - val_accuracy: 0.0328\n",
            "Epoch 33/50\n",
            "8/8 [==============================] - 100s 12s/step - loss: 0.1587 - accuracy: 0.9567 - val_loss: 6.2122 - val_accuracy: 0.0246\n",
            "Epoch 34/50\n",
            "8/8 [==============================] - 104s 13s/step - loss: 0.1351 - accuracy: 0.9567 - val_loss: 8.2094 - val_accuracy: 0.0328\n",
            "Epoch 35/50\n",
            "8/8 [==============================] - 100s 12s/step - loss: 0.1331 - accuracy: 0.9646 - val_loss: 6.6296 - val_accuracy: 0.0328\n",
            "Epoch 36/50\n",
            "8/8 [==============================] - 101s 12s/step - loss: 0.1717 - accuracy: 0.9453 - val_loss: 7.7444 - val_accuracy: 0.0328\n",
            "Epoch 37/50\n",
            "8/8 [==============================] - 100s 12s/step - loss: 0.1629 - accuracy: 0.9409 - val_loss: 8.1843 - val_accuracy: 0.0328\n",
            "Epoch 38/50\n",
            "8/8 [==============================] - 105s 13s/step - loss: 0.1392 - accuracy: 0.9453 - val_loss: 6.5377 - val_accuracy: 0.0328\n",
            "Epoch 39/50\n",
            "8/8 [==============================] - 101s 13s/step - loss: 0.1142 - accuracy: 0.9685 - val_loss: 5.7408 - val_accuracy: 0.0410\n",
            "Epoch 40/50\n",
            "8/8 [==============================] - 102s 13s/step - loss: 0.1059 - accuracy: 0.9764 - val_loss: 5.7727 - val_accuracy: 0.0328\n",
            "Epoch 41/50\n",
            "8/8 [==============================] - 101s 12s/step - loss: 0.2119 - accuracy: 0.9449 - val_loss: 6.6312 - val_accuracy: 0.0410\n",
            "Epoch 42/50\n",
            "8/8 [==============================] - 101s 13s/step - loss: 0.1073 - accuracy: 0.9724 - val_loss: 5.9801 - val_accuracy: 0.0492\n",
            "Epoch 43/50\n",
            "8/8 [==============================] - 103s 13s/step - loss: 0.1235 - accuracy: 0.9724 - val_loss: 5.6000 - val_accuracy: 0.0574\n",
            "Epoch 44/50\n",
            "8/8 [==============================] - 100s 12s/step - loss: 0.1647 - accuracy: 0.9449 - val_loss: 6.7453 - val_accuracy: 0.0328\n",
            "Epoch 45/50\n",
            "8/8 [==============================] - 100s 12s/step - loss: 0.1596 - accuracy: 0.9331 - val_loss: 5.3315 - val_accuracy: 0.0328\n",
            "Epoch 46/50\n",
            "8/8 [==============================] - 101s 12s/step - loss: 0.0982 - accuracy: 0.9803 - val_loss: 6.3051 - val_accuracy: 0.0328\n",
            "Epoch 47/50\n",
            "8/8 [==============================] - 99s 12s/step - loss: 0.1323 - accuracy: 0.9567 - val_loss: 5.2168 - val_accuracy: 0.0328\n",
            "Epoch 48/50\n",
            "8/8 [==============================] - 102s 12s/step - loss: 0.0902 - accuracy: 0.9764 - val_loss: 4.7606 - val_accuracy: 0.0328\n",
            "Epoch 49/50\n",
            "8/8 [==============================] - 100s 12s/step - loss: 0.1344 - accuracy: 0.9528 - val_loss: 4.1326 - val_accuracy: 0.0492\n",
            "Epoch 50/50\n",
            "8/8 [==============================] - 101s 12s/step - loss: 0.0863 - accuracy: 0.9764 - val_loss: 4.0165 - val_accuracy: 0.0328\n"
          ]
        },
        {
          "output_type": "execute_result",
          "data": {
            "text/plain": [
              "<keras.callbacks.History at 0x7fe1655f4dd0>"
            ]
          },
          "metadata": {},
          "execution_count": 47
        }
      ]
    },
    {
      "cell_type": "code",
      "metadata": {
        "id": "rRSlhgypqBs_",
        "colab": {
          "base_uri": "https://localhost:8080/"
        },
        "outputId": "dd311f2a-eb82-4410-fa28-ec7471c70fcf"
      },
      "source": [
        "model_resnet.save('handgesture_resnet.h5')"
      ],
      "execution_count": null,
      "outputs": [
        {
          "output_type": "stream",
          "name": "stderr",
          "text": [
            "/usr/local/lib/python3.7/dist-packages/keras/engine/functional.py:1410: CustomMaskWarning: Custom mask layers require a config and must override get_config. When loading, the custom mask layer must be passed to the custom_objects argument.\n",
            "  layer_config = serialize_layer_fn(layer)\n"
          ]
        }
      ]
    }
  ]
}